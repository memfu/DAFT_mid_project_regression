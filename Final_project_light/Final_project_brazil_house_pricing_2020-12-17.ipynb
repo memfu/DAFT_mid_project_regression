{
 "cells": [
  {
   "cell_type": "code",
   "execution_count": 1,
   "metadata": {},
   "outputs": [],
   "source": [
    "# Base libraries\n",
    "import pandas as pd\n",
    "import numpy as np"
   ]
  },
  {
   "cell_type": "code",
   "execution_count": 2,
   "metadata": {},
   "outputs": [],
   "source": [
    "rent = pd.read_csv('properati-BR-2016-11-01-properties-rent.csv')"
   ]
  },
  {
   "cell_type": "code",
   "execution_count": 3,
   "metadata": {},
   "outputs": [],
   "source": [
    "sell = pd.read_csv('properati-BR-2016-11-01-properties-sell.csv')"
   ]
  },
  {
   "cell_type": "markdown",
   "metadata": {},
   "source": [
    "# 1. Rent"
   ]
  },
  {
   "cell_type": "code",
   "execution_count": 4,
   "metadata": {},
   "outputs": [
    {
     "data": {
      "text/html": [
       "<div>\n",
       "<style scoped>\n",
       "    .dataframe tbody tr th:only-of-type {\n",
       "        vertical-align: middle;\n",
       "    }\n",
       "\n",
       "    .dataframe tbody tr th {\n",
       "        vertical-align: top;\n",
       "    }\n",
       "\n",
       "    .dataframe thead th {\n",
       "        text-align: right;\n",
       "    }\n",
       "</style>\n",
       "<table border=\"1\" class=\"dataframe\">\n",
       "  <thead>\n",
       "    <tr style=\"text-align: right;\">\n",
       "      <th></th>\n",
       "      <th>created_on</th>\n",
       "      <th>operation</th>\n",
       "      <th>property_type</th>\n",
       "      <th>place_name</th>\n",
       "      <th>state</th>\n",
       "      <th>geonames_id</th>\n",
       "      <th>lat-lon</th>\n",
       "      <th>lat</th>\n",
       "      <th>lon</th>\n",
       "      <th>price</th>\n",
       "      <th>...</th>\n",
       "      <th>surface_covered_in_m2</th>\n",
       "      <th>price_usd_per_m2</th>\n",
       "      <th>price_per_m2</th>\n",
       "      <th>floor</th>\n",
       "      <th>rooms</th>\n",
       "      <th>expenses</th>\n",
       "      <th>properati_url</th>\n",
       "      <th>description</th>\n",
       "      <th>title</th>\n",
       "      <th>image_thumbnail</th>\n",
       "    </tr>\n",
       "  </thead>\n",
       "  <tbody>\n",
       "    <tr>\n",
       "      <th>0</th>\n",
       "      <td>04/25/13</td>\n",
       "      <td>rent</td>\n",
       "      <td>apartment</td>\n",
       "      <td>Praia Grande</td>\n",
       "      <td>São Paulo</td>\n",
       "      <td>NaN</td>\n",
       "      <td>NaN</td>\n",
       "      <td>NaN</td>\n",
       "      <td>NaN</td>\n",
       "      <td>900.0</td>\n",
       "      <td>...</td>\n",
       "      <td>NaN</td>\n",
       "      <td>NaN</td>\n",
       "      <td>NaN</td>\n",
       "      <td>NaN</td>\n",
       "      <td>1.0</td>\n",
       "      <td>NaN</td>\n",
       "      <td>http://praia-grande-sao-paulo.properati.com.br...</td>\n",
       "      <td>Otimo Imovel com o melhor valor da regiao, con...</td>\n",
       "      <td>Apartamento Em Praia Grande</td>\n",
       "      <td>NaN</td>\n",
       "    </tr>\n",
       "    <tr>\n",
       "      <th>1</th>\n",
       "      <td>04/25/13</td>\n",
       "      <td>rent</td>\n",
       "      <td>apartment</td>\n",
       "      <td>Alphaville</td>\n",
       "      <td>São Paulo</td>\n",
       "      <td>NaN</td>\n",
       "      <td>NaN</td>\n",
       "      <td>NaN</td>\n",
       "      <td>NaN</td>\n",
       "      <td>3200.0</td>\n",
       "      <td>...</td>\n",
       "      <td>NaN</td>\n",
       "      <td>NaN</td>\n",
       "      <td>NaN</td>\n",
       "      <td>NaN</td>\n",
       "      <td>3.0</td>\n",
       "      <td>NaN</td>\n",
       "      <td>http://alphaville-barueri.properati.com.br/q8z...</td>\n",
       "      <td>Otimo Imovel com o melhor valor da regiao, con...</td>\n",
       "      <td>Apartamento Em Barueri</td>\n",
       "      <td>https://thumbs-cf.properati.com/0/Wjq7toq-DpwK...</td>\n",
       "    </tr>\n",
       "    <tr>\n",
       "      <th>2</th>\n",
       "      <td>04/25/13</td>\n",
       "      <td>rent</td>\n",
       "      <td>house</td>\n",
       "      <td>Centro</td>\n",
       "      <td>São Paulo</td>\n",
       "      <td>NaN</td>\n",
       "      <td>NaN</td>\n",
       "      <td>NaN</td>\n",
       "      <td>NaN</td>\n",
       "      <td>1800.0</td>\n",
       "      <td>...</td>\n",
       "      <td>NaN</td>\n",
       "      <td>NaN</td>\n",
       "      <td>NaN</td>\n",
       "      <td>NaN</td>\n",
       "      <td>2.0</td>\n",
       "      <td>NaN</td>\n",
       "      <td>http://centro-jundiai.properati.com.br/qe2_alu...</td>\n",
       "      <td>Otimo Imovel com o melhor valor da regiao, con...</td>\n",
       "      <td>Casa Em Jundiai</td>\n",
       "      <td>NaN</td>\n",
       "    </tr>\n",
       "    <tr>\n",
       "      <th>3</th>\n",
       "      <td>04/25/13</td>\n",
       "      <td>rent</td>\n",
       "      <td>apartment</td>\n",
       "      <td>Alphaville</td>\n",
       "      <td>São Paulo</td>\n",
       "      <td>NaN</td>\n",
       "      <td>NaN</td>\n",
       "      <td>NaN</td>\n",
       "      <td>NaN</td>\n",
       "      <td>NaN</td>\n",
       "      <td>...</td>\n",
       "      <td>NaN</td>\n",
       "      <td>NaN</td>\n",
       "      <td>NaN</td>\n",
       "      <td>NaN</td>\n",
       "      <td>NaN</td>\n",
       "      <td>NaN</td>\n",
       "      <td>http://alphaville-barueri.properati.com.br/s9p...</td>\n",
       "      <td>Otimo Imovel com o melhor valor da regiao, con...</td>\n",
       "      <td>Apartamento Em Barueri</td>\n",
       "      <td>https://thumbs-cf.properati.com/0/X7PtsZjj8Vqz...</td>\n",
       "    </tr>\n",
       "    <tr>\n",
       "      <th>4</th>\n",
       "      <td>04/25/13</td>\n",
       "      <td>rent</td>\n",
       "      <td>apartment</td>\n",
       "      <td>Barueri</td>\n",
       "      <td>São Paulo</td>\n",
       "      <td>NaN</td>\n",
       "      <td>NaN</td>\n",
       "      <td>NaN</td>\n",
       "      <td>NaN</td>\n",
       "      <td>1800.0</td>\n",
       "      <td>...</td>\n",
       "      <td>NaN</td>\n",
       "      <td>NaN</td>\n",
       "      <td>NaN</td>\n",
       "      <td>NaN</td>\n",
       "      <td>NaN</td>\n",
       "      <td>NaN</td>\n",
       "      <td>http://barueri.properati.com.br/s9u_aluga-se_a...</td>\n",
       "      <td>Otimo Imovel com o melhor valor da regiao, con...</td>\n",
       "      <td>Apartamento Em Barueri</td>\n",
       "      <td>https://thumbs-cf.properati.com/9/URn3U3gg-F6C...</td>\n",
       "    </tr>\n",
       "  </tbody>\n",
       "</table>\n",
       "<p>5 rows × 24 columns</p>\n",
       "</div>"
      ],
      "text/plain": [
       "  created_on operation property_type    place_name      state  geonames_id  \\\n",
       "0   04/25/13      rent     apartment  Praia Grande  São Paulo          NaN   \n",
       "1   04/25/13      rent     apartment    Alphaville  São Paulo          NaN   \n",
       "2   04/25/13      rent         house        Centro  São Paulo          NaN   \n",
       "3   04/25/13      rent     apartment    Alphaville  São Paulo          NaN   \n",
       "4   04/25/13      rent     apartment       Barueri  São Paulo          NaN   \n",
       "\n",
       "  lat-lon  lat  lon   price  ... surface_covered_in_m2  price_usd_per_m2  \\\n",
       "0     NaN  NaN  NaN   900.0  ...                   NaN               NaN   \n",
       "1     NaN  NaN  NaN  3200.0  ...                   NaN               NaN   \n",
       "2     NaN  NaN  NaN  1800.0  ...                   NaN               NaN   \n",
       "3     NaN  NaN  NaN     NaN  ...                   NaN               NaN   \n",
       "4     NaN  NaN  NaN  1800.0  ...                   NaN               NaN   \n",
       "\n",
       "   price_per_m2  floor  rooms  expenses  \\\n",
       "0           NaN    NaN    1.0       NaN   \n",
       "1           NaN    NaN    3.0       NaN   \n",
       "2           NaN    NaN    2.0       NaN   \n",
       "3           NaN    NaN    NaN       NaN   \n",
       "4           NaN    NaN    NaN       NaN   \n",
       "\n",
       "                                       properati_url  \\\n",
       "0  http://praia-grande-sao-paulo.properati.com.br...   \n",
       "1  http://alphaville-barueri.properati.com.br/q8z...   \n",
       "2  http://centro-jundiai.properati.com.br/qe2_alu...   \n",
       "3  http://alphaville-barueri.properati.com.br/s9p...   \n",
       "4  http://barueri.properati.com.br/s9u_aluga-se_a...   \n",
       "\n",
       "                                         description  \\\n",
       "0  Otimo Imovel com o melhor valor da regiao, con...   \n",
       "1  Otimo Imovel com o melhor valor da regiao, con...   \n",
       "2  Otimo Imovel com o melhor valor da regiao, con...   \n",
       "3  Otimo Imovel com o melhor valor da regiao, con...   \n",
       "4  Otimo Imovel com o melhor valor da regiao, con...   \n",
       "\n",
       "                         title  \\\n",
       "0  Apartamento Em Praia Grande   \n",
       "1       Apartamento Em Barueri   \n",
       "2              Casa Em Jundiai   \n",
       "3       Apartamento Em Barueri   \n",
       "4       Apartamento Em Barueri   \n",
       "\n",
       "                                     image_thumbnail  \n",
       "0                                                NaN  \n",
       "1  https://thumbs-cf.properati.com/0/Wjq7toq-DpwK...  \n",
       "2                                                NaN  \n",
       "3  https://thumbs-cf.properati.com/0/X7PtsZjj8Vqz...  \n",
       "4  https://thumbs-cf.properati.com/9/URn3U3gg-F6C...  \n",
       "\n",
       "[5 rows x 24 columns]"
      ]
     },
     "execution_count": 4,
     "metadata": {},
     "output_type": "execute_result"
    }
   ],
   "source": [
    "rent.head()"
   ]
  },
  {
   "cell_type": "code",
   "execution_count": 5,
   "metadata": {},
   "outputs": [
    {
     "data": {
      "text/plain": [
       "(97353, 24)"
      ]
     },
     "execution_count": 5,
     "metadata": {},
     "output_type": "execute_result"
    }
   ],
   "source": [
    "rent.shape"
   ]
  },
  {
   "cell_type": "code",
   "execution_count": 6,
   "metadata": {},
   "outputs": [
    {
     "name": "stdout",
     "output_type": "stream",
     "text": [
      "<class 'pandas.core.frame.DataFrame'>\n",
      "RangeIndex: 97353 entries, 0 to 97352\n",
      "Data columns (total 24 columns):\n",
      " #   Column                      Non-Null Count  Dtype  \n",
      "---  ------                      --------------  -----  \n",
      " 0   created_on                  97353 non-null  object \n",
      " 1   operation                   97353 non-null  object \n",
      " 2   property_type               97353 non-null  object \n",
      " 3   place_name                  97353 non-null  object \n",
      " 4   state                       97353 non-null  object \n",
      " 5   geonames_id                 3 non-null      float64\n",
      " 6   lat-lon                     46030 non-null  object \n",
      " 7   lat                         46030 non-null  float64\n",
      " 8   lon                         46030 non-null  float64\n",
      " 9   price                       92334 non-null  float64\n",
      " 10  currency                    92333 non-null  object \n",
      " 11  price_aprox_local_currency  92334 non-null  float64\n",
      " 12  price_aprox_usd             92334 non-null  float64\n",
      " 13  surface_total_in_m2         15848 non-null  float64\n",
      " 14  surface_covered_in_m2       75584 non-null  float64\n",
      " 15  price_usd_per_m2            70415 non-null  float64\n",
      " 16  price_per_m2                70415 non-null  float64\n",
      " 17  floor                       5285 non-null   float64\n",
      " 18  rooms                       58763 non-null  float64\n",
      " 19  expenses                    31773 non-null  float64\n",
      " 20  properati_url               97353 non-null  object \n",
      " 21  description                 97353 non-null  object \n",
      " 22  title                       97353 non-null  object \n",
      " 23  image_thumbnail             92224 non-null  object \n",
      "dtypes: float64(13), object(11)\n",
      "memory usage: 17.8+ MB\n"
     ]
    }
   ],
   "source": [
    "rent.info()"
   ]
  },
  {
   "cell_type": "code",
   "execution_count": 7,
   "metadata": {},
   "outputs": [],
   "source": [
    "rent = rent[['property_type', 'state', 'price', 'currency', 'price_aprox_usd', 'surface_total_in_m2', 'surface_covered_in_m2']].reset_index(drop=True)"
   ]
  },
  {
   "cell_type": "code",
   "execution_count": 8,
   "metadata": {},
   "outputs": [
    {
     "data": {
      "text/plain": [
       "(97353, 7)"
      ]
     },
     "execution_count": 8,
     "metadata": {},
     "output_type": "execute_result"
    }
   ],
   "source": [
    "rent.shape"
   ]
  },
  {
   "cell_type": "code",
   "execution_count": 9,
   "metadata": {},
   "outputs": [
    {
     "name": "stdout",
     "output_type": "stream",
     "text": [
      "<class 'pandas.core.frame.DataFrame'>\n",
      "RangeIndex: 97353 entries, 0 to 97352\n",
      "Data columns (total 7 columns):\n",
      " #   Column                 Non-Null Count  Dtype  \n",
      "---  ------                 --------------  -----  \n",
      " 0   property_type          97353 non-null  object \n",
      " 1   state                  97353 non-null  object \n",
      " 2   price                  92334 non-null  float64\n",
      " 3   currency               92333 non-null  object \n",
      " 4   price_aprox_usd        92334 non-null  float64\n",
      " 5   surface_total_in_m2    15848 non-null  float64\n",
      " 6   surface_covered_in_m2  75584 non-null  float64\n",
      "dtypes: float64(4), object(3)\n",
      "memory usage: 5.2+ MB\n"
     ]
    }
   ],
   "source": [
    "rent.info()"
   ]
  },
  {
   "cell_type": "code",
   "execution_count": 10,
   "metadata": {},
   "outputs": [],
   "source": [
    "rent.dropna(inplace = True)"
   ]
  },
  {
   "cell_type": "code",
   "execution_count": 11,
   "metadata": {},
   "outputs": [
    {
     "data": {
      "text/plain": [
       "(12135, 7)"
      ]
     },
     "execution_count": 11,
     "metadata": {},
     "output_type": "execute_result"
    }
   ],
   "source": [
    "rent.shape"
   ]
  },
  {
   "cell_type": "code",
   "execution_count": 12,
   "metadata": {},
   "outputs": [
    {
     "data": {
      "text/html": [
       "<div>\n",
       "<style scoped>\n",
       "    .dataframe tbody tr th:only-of-type {\n",
       "        vertical-align: middle;\n",
       "    }\n",
       "\n",
       "    .dataframe tbody tr th {\n",
       "        vertical-align: top;\n",
       "    }\n",
       "\n",
       "    .dataframe thead th {\n",
       "        text-align: right;\n",
       "    }\n",
       "</style>\n",
       "<table border=\"1\" class=\"dataframe\">\n",
       "  <thead>\n",
       "    <tr style=\"text-align: right;\">\n",
       "      <th></th>\n",
       "      <th>property_type</th>\n",
       "      <th>state</th>\n",
       "      <th>price</th>\n",
       "      <th>currency</th>\n",
       "      <th>price_aprox_usd</th>\n",
       "      <th>surface_total_in_m2</th>\n",
       "      <th>surface_covered_in_m2</th>\n",
       "    </tr>\n",
       "  </thead>\n",
       "  <tbody>\n",
       "    <tr>\n",
       "      <th>148</th>\n",
       "      <td>apartment</td>\n",
       "      <td>Rio de Janeiro</td>\n",
       "      <td>3500.0</td>\n",
       "      <td>BRL</td>\n",
       "      <td>1092.17</td>\n",
       "      <td>52.0</td>\n",
       "      <td>52.0</td>\n",
       "    </tr>\n",
       "    <tr>\n",
       "      <th>173</th>\n",
       "      <td>apartment</td>\n",
       "      <td>São Paulo</td>\n",
       "      <td>7500.0</td>\n",
       "      <td>BRL</td>\n",
       "      <td>2367.27</td>\n",
       "      <td>350.0</td>\n",
       "      <td>266.0</td>\n",
       "    </tr>\n",
       "    <tr>\n",
       "      <th>202</th>\n",
       "      <td>apartment</td>\n",
       "      <td>São Paulo</td>\n",
       "      <td>1900.0</td>\n",
       "      <td>BRL</td>\n",
       "      <td>599.70</td>\n",
       "      <td>127.0</td>\n",
       "      <td>51.0</td>\n",
       "    </tr>\n",
       "    <tr>\n",
       "      <th>209</th>\n",
       "      <td>apartment</td>\n",
       "      <td>São Paulo</td>\n",
       "      <td>4993.0</td>\n",
       "      <td>BRL</td>\n",
       "      <td>1575.97</td>\n",
       "      <td>250.0</td>\n",
       "      <td>160.0</td>\n",
       "    </tr>\n",
       "    <tr>\n",
       "      <th>232</th>\n",
       "      <td>apartment</td>\n",
       "      <td>São Paulo</td>\n",
       "      <td>2300.0</td>\n",
       "      <td>BRL</td>\n",
       "      <td>725.96</td>\n",
       "      <td>127.0</td>\n",
       "      <td>51.0</td>\n",
       "    </tr>\n",
       "  </tbody>\n",
       "</table>\n",
       "</div>"
      ],
      "text/plain": [
       "    property_type           state   price currency  price_aprox_usd  \\\n",
       "148     apartment  Rio de Janeiro  3500.0      BRL          1092.17   \n",
       "173     apartment       São Paulo  7500.0      BRL          2367.27   \n",
       "202     apartment       São Paulo  1900.0      BRL           599.70   \n",
       "209     apartment       São Paulo  4993.0      BRL          1575.97   \n",
       "232     apartment       São Paulo  2300.0      BRL           725.96   \n",
       "\n",
       "     surface_total_in_m2  surface_covered_in_m2  \n",
       "148                 52.0                   52.0  \n",
       "173                350.0                  266.0  \n",
       "202                127.0                   51.0  \n",
       "209                250.0                  160.0  \n",
       "232                127.0                   51.0  "
      ]
     },
     "execution_count": 12,
     "metadata": {},
     "output_type": "execute_result"
    }
   ],
   "source": [
    "rent.head()"
   ]
  },
  {
   "cell_type": "code",
   "execution_count": 13,
   "metadata": {},
   "outputs": [
    {
     "data": {
      "text/plain": [
       "São Paulo              9922\n",
       "Rio de Janeiro          719\n",
       "Rio Grande do Sul       294\n",
       "Minas Gerais            279\n",
       "Santa Catarina          150\n",
       "Bahia                   120\n",
       "Maranhão                113\n",
       "Paraíba                 110\n",
       "Distrito Federal        103\n",
       "Ceará                    67\n",
       "Piauí                    59\n",
       "Goiás                    47\n",
       "Sergipe                  43\n",
       "Rio Grande do Norte      35\n",
       "Pernambuco               25\n",
       "Paraná                   23\n",
       "Tocantins                10\n",
       "Alagoas                   8\n",
       "Espírito Santo            8\n",
       "Name: state, dtype: int64"
      ]
     },
     "execution_count": 13,
     "metadata": {},
     "output_type": "execute_result"
    }
   ],
   "source": [
    "rent['state'].value_counts()"
   ]
  },
  {
   "cell_type": "code",
   "execution_count": 14,
   "metadata": {},
   "outputs": [
    {
     "data": {
      "text/plain": [
       "state\n",
       "Alagoas                   8\n",
       "Bahia                   120\n",
       "Ceará                    67\n",
       "Distrito Federal        103\n",
       "Espírito Santo            8\n",
       "Goiás                    47\n",
       "Maranhão                113\n",
       "Minas Gerais            279\n",
       "Paraná                   23\n",
       "Paraíba                 110\n",
       "Pernambuco               25\n",
       "Piauí                    59\n",
       "Rio Grande do Norte      35\n",
       "Rio Grande do Sul       294\n",
       "Rio de Janeiro          719\n",
       "Santa Catarina          150\n",
       "Sergipe                  43\n",
       "São Paulo              9922\n",
       "Tocantins                10\n",
       "dtype: int64"
      ]
     },
     "execution_count": 14,
     "metadata": {},
     "output_type": "execute_result"
    }
   ],
   "source": [
    "rent_group = rent.groupby('state').size()\n",
    "rent_group"
   ]
  },
  {
   "cell_type": "code",
   "execution_count": 15,
   "metadata": {},
   "outputs": [],
   "source": [
    "rent_group = pd.DataFrame(rent_group, columns = ['no_properties'])\n",
    "rent_group.reset_index(inplace=True)"
   ]
  },
  {
   "cell_type": "code",
   "execution_count": 16,
   "metadata": {},
   "outputs": [
    {
     "data": {
      "text/plain": [
       "['Alagoas',\n",
       " 'Bahia',\n",
       " 'Ceará',\n",
       " 'Distrito Federal',\n",
       " 'Espírito Santo',\n",
       " 'Goiás',\n",
       " 'Maranhão',\n",
       " 'Paraná',\n",
       " 'Paraíba',\n",
       " 'Pernambuco',\n",
       " 'Piauí',\n",
       " 'Rio Grande do Norte',\n",
       " 'Santa Catarina',\n",
       " 'Sergipe',\n",
       " 'Tocantins']"
      ]
     },
     "execution_count": 16,
     "metadata": {},
     "output_type": "execute_result"
    }
   ],
   "source": [
    "# Variable with states with less than 200 properties\n",
    "rent_group_df = rent_group[rent_group['no_properties']<200]\n",
    "\n",
    "#Variable with a list of the sstates with less than 200 properties\n",
    "rent_group2 = list(rent_group_df['state'])\n",
    "rent_group2"
   ]
  },
  {
   "cell_type": "code",
   "execution_count": 17,
   "metadata": {},
   "outputs": [
    {
     "data": {
      "text/plain": [
       "São Paulo            9922\n",
       "other                 921\n",
       "Rio de Janeiro        719\n",
       "Rio Grande do Sul     294\n",
       "Minas Gerais          279\n",
       "Name: state, dtype: int64"
      ]
     },
     "execution_count": 17,
     "metadata": {},
     "output_type": "execute_result"
    }
   ],
   "source": [
    "def clean_states_rent(x):\n",
    "    if x in rent_group2:\n",
    "        return 'other'\n",
    "    else:\n",
    "        return x\n",
    "\n",
    "rent['state'] = list(map(clean_states_rent, rent['state']))\n",
    "\n",
    "rent['state'].value_counts()"
   ]
  },
  {
   "cell_type": "code",
   "execution_count": 18,
   "metadata": {},
   "outputs": [],
   "source": [
    "# Dropping rows where state is other\n",
    "\n",
    "rent.drop(rent[rent['state'] == 'other'].index, inplace = True)\n",
    "\n",
    "rent = rent.reset_index(drop=True)"
   ]
  },
  {
   "cell_type": "code",
   "execution_count": 19,
   "metadata": {},
   "outputs": [],
   "source": [
    "# Assigning the states to a new column and then sustituting them by the shortname\n",
    "\n",
    "rent['geolocation_state'] = rent['state']\n",
    "\n",
    "rent[\"geolocation_state\"].replace({\"São Paulo\": \"SP\", \"Rio de Janeiro\": \"RJ\",\"Rio Grande do Sul\": \"RS\",\"Minas Gerais\": \"MG\"}, inplace=True)"
   ]
  },
  {
   "cell_type": "code",
   "execution_count": 20,
   "metadata": {},
   "outputs": [
    {
     "data": {
      "text/html": [
       "<div>\n",
       "<style scoped>\n",
       "    .dataframe tbody tr th:only-of-type {\n",
       "        vertical-align: middle;\n",
       "    }\n",
       "\n",
       "    .dataframe tbody tr th {\n",
       "        vertical-align: top;\n",
       "    }\n",
       "\n",
       "    .dataframe thead th {\n",
       "        text-align: right;\n",
       "    }\n",
       "</style>\n",
       "<table border=\"1\" class=\"dataframe\">\n",
       "  <thead>\n",
       "    <tr style=\"text-align: right;\">\n",
       "      <th></th>\n",
       "      <th>property_type</th>\n",
       "      <th>state</th>\n",
       "      <th>price</th>\n",
       "      <th>currency</th>\n",
       "      <th>price_aprox_usd</th>\n",
       "      <th>surface_total_in_m2</th>\n",
       "      <th>surface_covered_in_m2</th>\n",
       "      <th>geolocation_state</th>\n",
       "    </tr>\n",
       "  </thead>\n",
       "  <tbody>\n",
       "    <tr>\n",
       "      <th>0</th>\n",
       "      <td>apartment</td>\n",
       "      <td>Rio de Janeiro</td>\n",
       "      <td>3500.0</td>\n",
       "      <td>BRL</td>\n",
       "      <td>1092.17</td>\n",
       "      <td>52.0</td>\n",
       "      <td>52.0</td>\n",
       "      <td>RJ</td>\n",
       "    </tr>\n",
       "    <tr>\n",
       "      <th>1</th>\n",
       "      <td>apartment</td>\n",
       "      <td>São Paulo</td>\n",
       "      <td>7500.0</td>\n",
       "      <td>BRL</td>\n",
       "      <td>2367.27</td>\n",
       "      <td>350.0</td>\n",
       "      <td>266.0</td>\n",
       "      <td>SP</td>\n",
       "    </tr>\n",
       "    <tr>\n",
       "      <th>2</th>\n",
       "      <td>apartment</td>\n",
       "      <td>São Paulo</td>\n",
       "      <td>1900.0</td>\n",
       "      <td>BRL</td>\n",
       "      <td>599.70</td>\n",
       "      <td>127.0</td>\n",
       "      <td>51.0</td>\n",
       "      <td>SP</td>\n",
       "    </tr>\n",
       "    <tr>\n",
       "      <th>3</th>\n",
       "      <td>apartment</td>\n",
       "      <td>São Paulo</td>\n",
       "      <td>4993.0</td>\n",
       "      <td>BRL</td>\n",
       "      <td>1575.97</td>\n",
       "      <td>250.0</td>\n",
       "      <td>160.0</td>\n",
       "      <td>SP</td>\n",
       "    </tr>\n",
       "    <tr>\n",
       "      <th>4</th>\n",
       "      <td>apartment</td>\n",
       "      <td>São Paulo</td>\n",
       "      <td>2300.0</td>\n",
       "      <td>BRL</td>\n",
       "      <td>725.96</td>\n",
       "      <td>127.0</td>\n",
       "      <td>51.0</td>\n",
       "      <td>SP</td>\n",
       "    </tr>\n",
       "  </tbody>\n",
       "</table>\n",
       "</div>"
      ],
      "text/plain": [
       "  property_type           state   price currency  price_aprox_usd  \\\n",
       "0     apartment  Rio de Janeiro  3500.0      BRL          1092.17   \n",
       "1     apartment       São Paulo  7500.0      BRL          2367.27   \n",
       "2     apartment       São Paulo  1900.0      BRL           599.70   \n",
       "3     apartment       São Paulo  4993.0      BRL          1575.97   \n",
       "4     apartment       São Paulo  2300.0      BRL           725.96   \n",
       "\n",
       "   surface_total_in_m2  surface_covered_in_m2 geolocation_state  \n",
       "0                 52.0                   52.0                RJ  \n",
       "1                350.0                  266.0                SP  \n",
       "2                127.0                   51.0                SP  \n",
       "3                250.0                  160.0                SP  \n",
       "4                127.0                   51.0                SP  "
      ]
     },
     "execution_count": 20,
     "metadata": {},
     "output_type": "execute_result"
    }
   ],
   "source": [
    "rent.head()"
   ]
  },
  {
   "cell_type": "code",
   "execution_count": 21,
   "metadata": {},
   "outputs": [
    {
     "data": {
      "text/plain": [
       "(11214, 8)"
      ]
     },
     "execution_count": 21,
     "metadata": {},
     "output_type": "execute_result"
    }
   ],
   "source": [
    "rent.shape"
   ]
  },
  {
   "cell_type": "code",
   "execution_count": 22,
   "metadata": {},
   "outputs": [],
   "source": [
    "rent_new = rent.to_csv(r'/Users/maria/Final_project/Olist/rent_new.csv')"
   ]
  },
  {
   "cell_type": "markdown",
   "metadata": {},
   "source": [
    "# 2. Sell"
   ]
  },
  {
   "cell_type": "code",
   "execution_count": 23,
   "metadata": {},
   "outputs": [
    {
     "data": {
      "text/html": [
       "<div>\n",
       "<style scoped>\n",
       "    .dataframe tbody tr th:only-of-type {\n",
       "        vertical-align: middle;\n",
       "    }\n",
       "\n",
       "    .dataframe tbody tr th {\n",
       "        vertical-align: top;\n",
       "    }\n",
       "\n",
       "    .dataframe thead th {\n",
       "        text-align: right;\n",
       "    }\n",
       "</style>\n",
       "<table border=\"1\" class=\"dataframe\">\n",
       "  <thead>\n",
       "    <tr style=\"text-align: right;\">\n",
       "      <th></th>\n",
       "      <th>created_on</th>\n",
       "      <th>operation</th>\n",
       "      <th>property_type</th>\n",
       "      <th>place_name</th>\n",
       "      <th>state</th>\n",
       "      <th>geonames_id</th>\n",
       "      <th>lat-lon</th>\n",
       "      <th>lat</th>\n",
       "      <th>lon</th>\n",
       "      <th>price</th>\n",
       "      <th>...</th>\n",
       "      <th>surface_covered_in_m2</th>\n",
       "      <th>price_usd_per_m2</th>\n",
       "      <th>price_per_m2</th>\n",
       "      <th>floor</th>\n",
       "      <th>rooms</th>\n",
       "      <th>expenses</th>\n",
       "      <th>properati_url</th>\n",
       "      <th>description</th>\n",
       "      <th>title</th>\n",
       "      <th>image_thumbnail</th>\n",
       "    </tr>\n",
       "  </thead>\n",
       "  <tbody>\n",
       "    <tr>\n",
       "      <th>0</th>\n",
       "      <td>04/25/13</td>\n",
       "      <td>sell</td>\n",
       "      <td>apartment</td>\n",
       "      <td>Mondubim</td>\n",
       "      <td>Ceará</td>\n",
       "      <td>NaN</td>\n",
       "      <td>NaN</td>\n",
       "      <td>NaN</td>\n",
       "      <td>NaN</td>\n",
       "      <td>155900.0</td>\n",
       "      <td>...</td>\n",
       "      <td>NaN</td>\n",
       "      <td>NaN</td>\n",
       "      <td>NaN</td>\n",
       "      <td>NaN</td>\n",
       "      <td>2.0</td>\n",
       "      <td>NaN</td>\n",
       "      <td>http://mondubim.properati.com.br/px9_vende-se_...</td>\n",
       "      <td>Otimo Imovel com o melhor valor da regiao, con...</td>\n",
       "      <td>Apartamento Em Fortaleza</td>\n",
       "      <td>https://thumbs-cf.properati.com/8/EY670SQWML7c...</td>\n",
       "    </tr>\n",
       "    <tr>\n",
       "      <th>1</th>\n",
       "      <td>04/25/13</td>\n",
       "      <td>sell</td>\n",
       "      <td>house</td>\n",
       "      <td>Manhuaçu</td>\n",
       "      <td>Minas Gerais</td>\n",
       "      <td>NaN</td>\n",
       "      <td>NaN</td>\n",
       "      <td>NaN</td>\n",
       "      <td>NaN</td>\n",
       "      <td>950000.0</td>\n",
       "      <td>...</td>\n",
       "      <td>NaN</td>\n",
       "      <td>NaN</td>\n",
       "      <td>NaN</td>\n",
       "      <td>NaN</td>\n",
       "      <td>NaN</td>\n",
       "      <td>NaN</td>\n",
       "      <td>http://manhuacu.properati.com.br/pxv_vende-se_...</td>\n",
       "      <td>Otimo Imovel com o melhor valor da regiao, con...</td>\n",
       "      <td>Casa Em Manhuacu</td>\n",
       "      <td>https://thumbs-cf.properati.com/1/1VGQees9LIbx...</td>\n",
       "    </tr>\n",
       "    <tr>\n",
       "      <th>2</th>\n",
       "      <td>04/25/13</td>\n",
       "      <td>sell</td>\n",
       "      <td>house</td>\n",
       "      <td>Ibatiba</td>\n",
       "      <td>Espírito Santo</td>\n",
       "      <td>NaN</td>\n",
       "      <td>NaN</td>\n",
       "      <td>NaN</td>\n",
       "      <td>NaN</td>\n",
       "      <td>NaN</td>\n",
       "      <td>...</td>\n",
       "      <td>NaN</td>\n",
       "      <td>NaN</td>\n",
       "      <td>NaN</td>\n",
       "      <td>NaN</td>\n",
       "      <td>NaN</td>\n",
       "      <td>NaN</td>\n",
       "      <td>http://ibatiba.properati.com.br/pxw_vende-se_o...</td>\n",
       "      <td>Otimo Imovel com o melhor valor da regiao, con...</td>\n",
       "      <td>Sítio Em Ibatiba</td>\n",
       "      <td>NaN</td>\n",
       "    </tr>\n",
       "    <tr>\n",
       "      <th>3</th>\n",
       "      <td>04/25/13</td>\n",
       "      <td>sell</td>\n",
       "      <td>apartment</td>\n",
       "      <td>Manhuaçu</td>\n",
       "      <td>Minas Gerais</td>\n",
       "      <td>NaN</td>\n",
       "      <td>NaN</td>\n",
       "      <td>NaN</td>\n",
       "      <td>NaN</td>\n",
       "      <td>NaN</td>\n",
       "      <td>...</td>\n",
       "      <td>NaN</td>\n",
       "      <td>NaN</td>\n",
       "      <td>NaN</td>\n",
       "      <td>NaN</td>\n",
       "      <td>NaN</td>\n",
       "      <td>NaN</td>\n",
       "      <td>http://manhuacu.properati.com.br/pxy_vende-se_...</td>\n",
       "      <td>Otimo Imovel com o melhor valor da regiao, con...</td>\n",
       "      <td>Apartamento Em Manhuacu</td>\n",
       "      <td>NaN</td>\n",
       "    </tr>\n",
       "    <tr>\n",
       "      <th>4</th>\n",
       "      <td>04/25/13</td>\n",
       "      <td>sell</td>\n",
       "      <td>apartment</td>\n",
       "      <td>Manhuaçu</td>\n",
       "      <td>Minas Gerais</td>\n",
       "      <td>NaN</td>\n",
       "      <td>NaN</td>\n",
       "      <td>NaN</td>\n",
       "      <td>NaN</td>\n",
       "      <td>NaN</td>\n",
       "      <td>...</td>\n",
       "      <td>NaN</td>\n",
       "      <td>NaN</td>\n",
       "      <td>NaN</td>\n",
       "      <td>NaN</td>\n",
       "      <td>NaN</td>\n",
       "      <td>NaN</td>\n",
       "      <td>http://manhuacu.properati.com.br/pxz_vende-se_...</td>\n",
       "      <td>Otimo Imovel com o melhor valor da regiao, con...</td>\n",
       "      <td>Apartamento Em Manhuacu</td>\n",
       "      <td>https://thumbs-cf.properati.com/2/UhPHI8dsNCb4...</td>\n",
       "    </tr>\n",
       "  </tbody>\n",
       "</table>\n",
       "<p>5 rows × 24 columns</p>\n",
       "</div>"
      ],
      "text/plain": [
       "  created_on operation property_type place_name           state  geonames_id  \\\n",
       "0   04/25/13      sell     apartment   Mondubim           Ceará          NaN   \n",
       "1   04/25/13      sell         house   Manhuaçu    Minas Gerais          NaN   \n",
       "2   04/25/13      sell         house    Ibatiba  Espírito Santo          NaN   \n",
       "3   04/25/13      sell     apartment   Manhuaçu    Minas Gerais          NaN   \n",
       "4   04/25/13      sell     apartment   Manhuaçu    Minas Gerais          NaN   \n",
       "\n",
       "  lat-lon  lat  lon     price  ... surface_covered_in_m2  price_usd_per_m2  \\\n",
       "0     NaN  NaN  NaN  155900.0  ...                   NaN               NaN   \n",
       "1     NaN  NaN  NaN  950000.0  ...                   NaN               NaN   \n",
       "2     NaN  NaN  NaN       NaN  ...                   NaN               NaN   \n",
       "3     NaN  NaN  NaN       NaN  ...                   NaN               NaN   \n",
       "4     NaN  NaN  NaN       NaN  ...                   NaN               NaN   \n",
       "\n",
       "   price_per_m2  floor  rooms  expenses  \\\n",
       "0           NaN    NaN    2.0       NaN   \n",
       "1           NaN    NaN    NaN       NaN   \n",
       "2           NaN    NaN    NaN       NaN   \n",
       "3           NaN    NaN    NaN       NaN   \n",
       "4           NaN    NaN    NaN       NaN   \n",
       "\n",
       "                                       properati_url  \\\n",
       "0  http://mondubim.properati.com.br/px9_vende-se_...   \n",
       "1  http://manhuacu.properati.com.br/pxv_vende-se_...   \n",
       "2  http://ibatiba.properati.com.br/pxw_vende-se_o...   \n",
       "3  http://manhuacu.properati.com.br/pxy_vende-se_...   \n",
       "4  http://manhuacu.properati.com.br/pxz_vende-se_...   \n",
       "\n",
       "                                         description  \\\n",
       "0  Otimo Imovel com o melhor valor da regiao, con...   \n",
       "1  Otimo Imovel com o melhor valor da regiao, con...   \n",
       "2  Otimo Imovel com o melhor valor da regiao, con...   \n",
       "3  Otimo Imovel com o melhor valor da regiao, con...   \n",
       "4  Otimo Imovel com o melhor valor da regiao, con...   \n",
       "\n",
       "                      title                                    image_thumbnail  \n",
       "0  Apartamento Em Fortaleza  https://thumbs-cf.properati.com/8/EY670SQWML7c...  \n",
       "1          Casa Em Manhuacu  https://thumbs-cf.properati.com/1/1VGQees9LIbx...  \n",
       "2          Sítio Em Ibatiba                                                NaN  \n",
       "3   Apartamento Em Manhuacu                                                NaN  \n",
       "4   Apartamento Em Manhuacu  https://thumbs-cf.properati.com/2/UhPHI8dsNCb4...  \n",
       "\n",
       "[5 rows x 24 columns]"
      ]
     },
     "execution_count": 23,
     "metadata": {},
     "output_type": "execute_result"
    }
   ],
   "source": [
    "sell.head()"
   ]
  },
  {
   "cell_type": "code",
   "execution_count": 24,
   "metadata": {},
   "outputs": [
    {
     "data": {
      "text/plain": [
       "(872672, 24)"
      ]
     },
     "execution_count": 24,
     "metadata": {},
     "output_type": "execute_result"
    }
   ],
   "source": [
    "sell.shape"
   ]
  },
  {
   "cell_type": "code",
   "execution_count": 25,
   "metadata": {},
   "outputs": [
    {
     "name": "stdout",
     "output_type": "stream",
     "text": [
      "<class 'pandas.core.frame.DataFrame'>\n",
      "RangeIndex: 872672 entries, 0 to 872671\n",
      "Data columns (total 24 columns):\n",
      " #   Column                      Non-Null Count   Dtype  \n",
      "---  ------                      --------------   -----  \n",
      " 0   created_on                  872672 non-null  object \n",
      " 1   operation                   872672 non-null  object \n",
      " 2   property_type               872672 non-null  object \n",
      " 3   place_name                  872672 non-null  object \n",
      " 4   state                       872672 non-null  object \n",
      " 5   geonames_id                 140 non-null     float64\n",
      " 6   lat-lon                     387227 non-null  object \n",
      " 7   lat                         387227 non-null  float64\n",
      " 8   lon                         387227 non-null  float64\n",
      " 9   price                       819401 non-null  float64\n",
      " 10  currency                    819382 non-null  object \n",
      " 11  price_aprox_local_currency  819401 non-null  float64\n",
      " 12  price_aprox_usd             819401 non-null  float64\n",
      " 13  surface_total_in_m2         216934 non-null  float64\n",
      " 14  surface_covered_in_m2       633240 non-null  float64\n",
      " 15  price_usd_per_m2            589181 non-null  float64\n",
      " 16  price_per_m2                589181 non-null  float64\n",
      " 17  floor                       50794 non-null   float64\n",
      " 18  rooms                       541746 non-null  float64\n",
      " 19  expenses                    233318 non-null  float64\n",
      " 20  properati_url               872672 non-null  object \n",
      " 21  description                 872672 non-null  object \n",
      " 22  title                       872672 non-null  object \n",
      " 23  image_thumbnail             834007 non-null  object \n",
      "dtypes: float64(13), object(11)\n",
      "memory usage: 159.8+ MB\n"
     ]
    }
   ],
   "source": [
    "sell.info()"
   ]
  },
  {
   "cell_type": "code",
   "execution_count": 26,
   "metadata": {},
   "outputs": [],
   "source": [
    "sell = sell[['property_type', 'state', 'price', 'currency', 'price_aprox_usd', 'surface_total_in_m2', 'surface_covered_in_m2']].reset_index(drop=True)"
   ]
  },
  {
   "cell_type": "code",
   "execution_count": 27,
   "metadata": {},
   "outputs": [
    {
     "data": {
      "text/plain": [
       "(872672, 7)"
      ]
     },
     "execution_count": 27,
     "metadata": {},
     "output_type": "execute_result"
    }
   ],
   "source": [
    "sell.shape"
   ]
  },
  {
   "cell_type": "code",
   "execution_count": 28,
   "metadata": {},
   "outputs": [
    {
     "name": "stdout",
     "output_type": "stream",
     "text": [
      "<class 'pandas.core.frame.DataFrame'>\n",
      "RangeIndex: 872672 entries, 0 to 872671\n",
      "Data columns (total 7 columns):\n",
      " #   Column                 Non-Null Count   Dtype  \n",
      "---  ------                 --------------   -----  \n",
      " 0   property_type          872672 non-null  object \n",
      " 1   state                  872672 non-null  object \n",
      " 2   price                  819401 non-null  float64\n",
      " 3   currency               819382 non-null  object \n",
      " 4   price_aprox_usd        819401 non-null  float64\n",
      " 5   surface_total_in_m2    216934 non-null  float64\n",
      " 6   surface_covered_in_m2  633240 non-null  float64\n",
      "dtypes: float64(4), object(3)\n",
      "memory usage: 46.6+ MB\n"
     ]
    }
   ],
   "source": [
    "sell.info()"
   ]
  },
  {
   "cell_type": "code",
   "execution_count": 29,
   "metadata": {},
   "outputs": [],
   "source": [
    "sell.dropna(inplace = True)"
   ]
  },
  {
   "cell_type": "code",
   "execution_count": 30,
   "metadata": {},
   "outputs": [
    {
     "data": {
      "text/plain": [
       "(106916, 7)"
      ]
     },
     "execution_count": 30,
     "metadata": {},
     "output_type": "execute_result"
    }
   ],
   "source": [
    "sell.shape"
   ]
  },
  {
   "cell_type": "code",
   "execution_count": 31,
   "metadata": {},
   "outputs": [
    {
     "data": {
      "text/html": [
       "<div>\n",
       "<style scoped>\n",
       "    .dataframe tbody tr th:only-of-type {\n",
       "        vertical-align: middle;\n",
       "    }\n",
       "\n",
       "    .dataframe tbody tr th {\n",
       "        vertical-align: top;\n",
       "    }\n",
       "\n",
       "    .dataframe thead th {\n",
       "        text-align: right;\n",
       "    }\n",
       "</style>\n",
       "<table border=\"1\" class=\"dataframe\">\n",
       "  <thead>\n",
       "    <tr style=\"text-align: right;\">\n",
       "      <th></th>\n",
       "      <th>property_type</th>\n",
       "      <th>state</th>\n",
       "      <th>price</th>\n",
       "      <th>currency</th>\n",
       "      <th>price_aprox_usd</th>\n",
       "      <th>surface_total_in_m2</th>\n",
       "      <th>surface_covered_in_m2</th>\n",
       "    </tr>\n",
       "  </thead>\n",
       "  <tbody>\n",
       "    <tr>\n",
       "      <th>792</th>\n",
       "      <td>house</td>\n",
       "      <td>Ceará</td>\n",
       "      <td>5000000.0</td>\n",
       "      <td>BRL</td>\n",
       "      <td>1560257.13</td>\n",
       "      <td>100000.0</td>\n",
       "      <td>1000.0</td>\n",
       "    </tr>\n",
       "    <tr>\n",
       "      <th>794</th>\n",
       "      <td>apartment</td>\n",
       "      <td>São Paulo</td>\n",
       "      <td>2000000.0</td>\n",
       "      <td>BRL</td>\n",
       "      <td>631273.27</td>\n",
       "      <td>260.0</td>\n",
       "      <td>180.0</td>\n",
       "    </tr>\n",
       "    <tr>\n",
       "      <th>795</th>\n",
       "      <td>apartment</td>\n",
       "      <td>São Paulo</td>\n",
       "      <td>960000.0</td>\n",
       "      <td>BRL</td>\n",
       "      <td>303011.17</td>\n",
       "      <td>160.0</td>\n",
       "      <td>109.0</td>\n",
       "    </tr>\n",
       "    <tr>\n",
       "      <th>796</th>\n",
       "      <td>apartment</td>\n",
       "      <td>São Paulo</td>\n",
       "      <td>1300000.0</td>\n",
       "      <td>BRL</td>\n",
       "      <td>410327.63</td>\n",
       "      <td>197.0</td>\n",
       "      <td>130.0</td>\n",
       "    </tr>\n",
       "    <tr>\n",
       "      <th>797</th>\n",
       "      <td>apartment</td>\n",
       "      <td>São Paulo</td>\n",
       "      <td>1050000.0</td>\n",
       "      <td>BRL</td>\n",
       "      <td>331418.47</td>\n",
       "      <td>300.0</td>\n",
       "      <td>145.0</td>\n",
       "    </tr>\n",
       "  </tbody>\n",
       "</table>\n",
       "</div>"
      ],
      "text/plain": [
       "    property_type      state      price currency  price_aprox_usd  \\\n",
       "792         house      Ceará  5000000.0      BRL       1560257.13   \n",
       "794     apartment  São Paulo  2000000.0      BRL        631273.27   \n",
       "795     apartment  São Paulo   960000.0      BRL        303011.17   \n",
       "796     apartment  São Paulo  1300000.0      BRL        410327.63   \n",
       "797     apartment  São Paulo  1050000.0      BRL        331418.47   \n",
       "\n",
       "     surface_total_in_m2  surface_covered_in_m2  \n",
       "792             100000.0                 1000.0  \n",
       "794                260.0                  180.0  \n",
       "795                160.0                  109.0  \n",
       "796                197.0                  130.0  \n",
       "797                300.0                  145.0  "
      ]
     },
     "execution_count": 31,
     "metadata": {},
     "output_type": "execute_result"
    }
   ],
   "source": [
    "sell.head()"
   ]
  },
  {
   "cell_type": "code",
   "execution_count": 32,
   "metadata": {},
   "outputs": [
    {
     "data": {
      "text/plain": [
       "São Paulo              56344\n",
       "Rio Grande do Sul      34588\n",
       "Rio de Janeiro          3551\n",
       "Santa Catarina          3492\n",
       "Minas Gerais            3375\n",
       "Bahia                   1168\n",
       "Goiás                    755\n",
       "Paraíba                  596\n",
       "Ceará                    592\n",
       "Distrito Federal         578\n",
       "Espírito Santo           471\n",
       "Maranhão                 343\n",
       "Sergipe                  270\n",
       "Paraná                   240\n",
       "Pernambuco               186\n",
       "Piauí                    142\n",
       "Rio Grande do Norte       75\n",
       "Tocantins                 60\n",
       "Alagoas                   46\n",
       "Rondônia                  23\n",
       "Pará                       7\n",
       "Mato Grosso do Sul         6\n",
       "Amapá                      4\n",
       "Mato Grosso                4\n",
       "Name: state, dtype: int64"
      ]
     },
     "execution_count": 32,
     "metadata": {},
     "output_type": "execute_result"
    }
   ],
   "source": [
    "sell['state'].value_counts()"
   ]
  },
  {
   "cell_type": "code",
   "execution_count": 33,
   "metadata": {},
   "outputs": [
    {
     "data": {
      "text/plain": [
       "state\n",
       "Alagoas                   46\n",
       "Amapá                      4\n",
       "Bahia                   1168\n",
       "Ceará                    592\n",
       "Distrito Federal         578\n",
       "Espírito Santo           471\n",
       "Goiás                    755\n",
       "Maranhão                 343\n",
       "Mato Grosso                4\n",
       "Mato Grosso do Sul         6\n",
       "Minas Gerais            3375\n",
       "Paraná                   240\n",
       "Paraíba                  596\n",
       "Pará                       7\n",
       "Pernambuco               186\n",
       "Piauí                    142\n",
       "Rio Grande do Norte       75\n",
       "Rio Grande do Sul      34588\n",
       "Rio de Janeiro          3551\n",
       "Rondônia                  23\n",
       "Santa Catarina          3492\n",
       "Sergipe                  270\n",
       "São Paulo              56344\n",
       "Tocantins                 60\n",
       "dtype: int64"
      ]
     },
     "execution_count": 33,
     "metadata": {},
     "output_type": "execute_result"
    }
   ],
   "source": [
    "sell_group = sell.groupby('state').size()\n",
    "sell_group"
   ]
  },
  {
   "cell_type": "code",
   "execution_count": 34,
   "metadata": {},
   "outputs": [],
   "source": [
    "sell_group = pd.DataFrame(sell_group, columns = ['no_properties'])\n",
    "sell_group.reset_index(inplace=True)"
   ]
  },
  {
   "cell_type": "code",
   "execution_count": 35,
   "metadata": {},
   "outputs": [
    {
     "data": {
      "text/plain": [
       "['Alagoas',\n",
       " 'Amapá',\n",
       " 'Bahia',\n",
       " 'Ceará',\n",
       " 'Distrito Federal',\n",
       " 'Espírito Santo',\n",
       " 'Goiás',\n",
       " 'Maranhão',\n",
       " 'Mato Grosso',\n",
       " 'Mato Grosso do Sul',\n",
       " 'Paraná',\n",
       " 'Paraíba',\n",
       " 'Pará',\n",
       " 'Pernambuco',\n",
       " 'Piauí',\n",
       " 'Rio Grande do Norte',\n",
       " 'Rondônia',\n",
       " 'Sergipe',\n",
       " 'Tocantins']"
      ]
     },
     "execution_count": 35,
     "metadata": {},
     "output_type": "execute_result"
    }
   ],
   "source": [
    "# Variable with states with less than 3000 properties\n",
    "sell_group_df = sell_group[sell_group['no_properties']<3000]\n",
    "\n",
    "#Variable with a list of the sstates with less than 3000 properties\n",
    "sell_group2 = list(sell_group_df['state'])\n",
    "sell_group2"
   ]
  },
  {
   "cell_type": "code",
   "execution_count": 36,
   "metadata": {},
   "outputs": [
    {
     "data": {
      "text/plain": [
       "São Paulo            56344\n",
       "Rio Grande do Sul    34588\n",
       "other                 5566\n",
       "Rio de Janeiro        3551\n",
       "Santa Catarina        3492\n",
       "Minas Gerais          3375\n",
       "Name: state, dtype: int64"
      ]
     },
     "execution_count": 36,
     "metadata": {},
     "output_type": "execute_result"
    }
   ],
   "source": [
    "def clean_states_sell(x):\n",
    "    if x in sell_group2:\n",
    "        return 'other'\n",
    "    else:\n",
    "        return x\n",
    "\n",
    "sell['state'] = list(map(clean_states_sell, sell['state']))\n",
    "\n",
    "sell['state'].value_counts()"
   ]
  },
  {
   "cell_type": "code",
   "execution_count": 37,
   "metadata": {},
   "outputs": [],
   "source": [
    "# Dropping rows where state is other\n",
    "\n",
    "sell.drop(sell[sell['state'] == 'other'].index, inplace = True)\n",
    "\n",
    "sell = sell.reset_index(drop=True)"
   ]
  },
  {
   "cell_type": "code",
   "execution_count": 38,
   "metadata": {},
   "outputs": [],
   "source": [
    "# Assigning the states to a new column and then sustituting them by the shortname\n",
    "\n",
    "sell['geolocation_state'] = sell['state']\n",
    "\n",
    "sell[\"geolocation_state\"].replace({\"São Paulo\": \"SP\", \"Rio de Janeiro\": \"RJ\",\"Rio Grande do Sul\": \"RS\",\"Minas Gerais\": \"MG\", \"Santa Catarina\": \"SC\"}, inplace=True)"
   ]
  },
  {
   "cell_type": "code",
   "execution_count": 39,
   "metadata": {},
   "outputs": [
    {
     "data": {
      "text/html": [
       "<div>\n",
       "<style scoped>\n",
       "    .dataframe tbody tr th:only-of-type {\n",
       "        vertical-align: middle;\n",
       "    }\n",
       "\n",
       "    .dataframe tbody tr th {\n",
       "        vertical-align: top;\n",
       "    }\n",
       "\n",
       "    .dataframe thead th {\n",
       "        text-align: right;\n",
       "    }\n",
       "</style>\n",
       "<table border=\"1\" class=\"dataframe\">\n",
       "  <thead>\n",
       "    <tr style=\"text-align: right;\">\n",
       "      <th></th>\n",
       "      <th>property_type</th>\n",
       "      <th>state</th>\n",
       "      <th>price</th>\n",
       "      <th>currency</th>\n",
       "      <th>price_aprox_usd</th>\n",
       "      <th>surface_total_in_m2</th>\n",
       "      <th>surface_covered_in_m2</th>\n",
       "      <th>geolocation_state</th>\n",
       "    </tr>\n",
       "  </thead>\n",
       "  <tbody>\n",
       "    <tr>\n",
       "      <th>0</th>\n",
       "      <td>apartment</td>\n",
       "      <td>São Paulo</td>\n",
       "      <td>2000000.0</td>\n",
       "      <td>BRL</td>\n",
       "      <td>631273.27</td>\n",
       "      <td>260.0</td>\n",
       "      <td>180.0</td>\n",
       "      <td>SP</td>\n",
       "    </tr>\n",
       "    <tr>\n",
       "      <th>1</th>\n",
       "      <td>apartment</td>\n",
       "      <td>São Paulo</td>\n",
       "      <td>960000.0</td>\n",
       "      <td>BRL</td>\n",
       "      <td>303011.17</td>\n",
       "      <td>160.0</td>\n",
       "      <td>109.0</td>\n",
       "      <td>SP</td>\n",
       "    </tr>\n",
       "    <tr>\n",
       "      <th>2</th>\n",
       "      <td>apartment</td>\n",
       "      <td>São Paulo</td>\n",
       "      <td>1300000.0</td>\n",
       "      <td>BRL</td>\n",
       "      <td>410327.63</td>\n",
       "      <td>197.0</td>\n",
       "      <td>130.0</td>\n",
       "      <td>SP</td>\n",
       "    </tr>\n",
       "    <tr>\n",
       "      <th>3</th>\n",
       "      <td>apartment</td>\n",
       "      <td>São Paulo</td>\n",
       "      <td>1050000.0</td>\n",
       "      <td>BRL</td>\n",
       "      <td>331418.47</td>\n",
       "      <td>300.0</td>\n",
       "      <td>145.0</td>\n",
       "      <td>SP</td>\n",
       "    </tr>\n",
       "    <tr>\n",
       "      <th>4</th>\n",
       "      <td>apartment</td>\n",
       "      <td>São Paulo</td>\n",
       "      <td>900000.0</td>\n",
       "      <td>BRL</td>\n",
       "      <td>284072.97</td>\n",
       "      <td>200.0</td>\n",
       "      <td>130.0</td>\n",
       "      <td>SP</td>\n",
       "    </tr>\n",
       "  </tbody>\n",
       "</table>\n",
       "</div>"
      ],
      "text/plain": [
       "  property_type      state      price currency  price_aprox_usd  \\\n",
       "0     apartment  São Paulo  2000000.0      BRL        631273.27   \n",
       "1     apartment  São Paulo   960000.0      BRL        303011.17   \n",
       "2     apartment  São Paulo  1300000.0      BRL        410327.63   \n",
       "3     apartment  São Paulo  1050000.0      BRL        331418.47   \n",
       "4     apartment  São Paulo   900000.0      BRL        284072.97   \n",
       "\n",
       "   surface_total_in_m2  surface_covered_in_m2 geolocation_state  \n",
       "0                260.0                  180.0                SP  \n",
       "1                160.0                  109.0                SP  \n",
       "2                197.0                  130.0                SP  \n",
       "3                300.0                  145.0                SP  \n",
       "4                200.0                  130.0                SP  "
      ]
     },
     "execution_count": 39,
     "metadata": {},
     "output_type": "execute_result"
    }
   ],
   "source": [
    "sell.head()"
   ]
  },
  {
   "cell_type": "code",
   "execution_count": 40,
   "metadata": {},
   "outputs": [
    {
     "data": {
      "text/plain": [
       "(101350, 8)"
      ]
     },
     "execution_count": 40,
     "metadata": {},
     "output_type": "execute_result"
    }
   ],
   "source": [
    "sell.shape"
   ]
  },
  {
   "cell_type": "code",
   "execution_count": 41,
   "metadata": {},
   "outputs": [],
   "source": [
    "sell_new = sell.to_csv(r'/Users/maria/Final_project/Olist/sell_new.csv')"
   ]
  },
  {
   "cell_type": "code",
   "execution_count": null,
   "metadata": {},
   "outputs": [],
   "source": []
  }
 ],
 "metadata": {
  "kernelspec": {
   "display_name": "Python 3",
   "language": "python",
   "name": "python3"
  },
  "language_info": {
   "codemirror_mode": {
    "name": "ipython",
    "version": 3
   },
   "file_extension": ".py",
   "mimetype": "text/x-python",
   "name": "python",
   "nbconvert_exporter": "python",
   "pygments_lexer": "ipython3",
   "version": "3.7.9"
  }
 },
 "nbformat": 4,
 "nbformat_minor": 4
}
